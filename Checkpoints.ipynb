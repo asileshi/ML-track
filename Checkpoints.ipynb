{
 "cells": [
  {
   "cell_type": "markdown",
   "id": "70d68298",
   "metadata": {
    "id": "70d68298"
   },
   "source": [
    "# Checkpoints"
   ]
  },
  {
   "cell_type": "markdown",
   "id": "67d0260a",
   "metadata": {
    "id": "67d0260a"
   },
   "source": [
    "**CP1**:\n",
    "Given the list $[A, B, C]$, use the `itertools` module to generate all possible\n",
    "combinations of 2 elements.\n",
    "\n",
    "**Expected Output**:\n",
    "$$\n",
    " (A, B) \\\\\n",
    " (A, C) \\\\\n",
    " (B, C)\n",
    "$$"
   ]
  },
  {
   "cell_type": "code",
   "execution_count": 2,
   "id": "9dd63d67",
   "metadata": {
    "id": "9dd63d67"
   },
   "outputs": [
    {
     "name": "stdout",
     "output_type": "stream",
     "text": [
      "('A', 'B')\n",
      "('A', 'C')\n",
      "('B', 'C')\n"
     ]
    }
   ],
   "source": [
    "import itertools\n",
    "for comb in itertools.combinations(['A','B',\"C\"],2):\n",
    "    print(comb)"
   ]
  },
  {
   "cell_type": "markdown",
   "id": "31c15dce",
   "metadata": {
    "id": "31c15dce"
   },
   "source": [
    "**CP2**:\n",
    "Use the `itertools` module to create a sequence that cycles through\n",
    "['Python', 'is', 'fun'] infinitely. Print the first 10 elements of the sequence.\n",
    "\n",
    "**Expected Output**:\n",
    "$$\n",
    "Python \\\\\n",
    "is\\\\\n",
    "fun\\\\\n",
    "Python\\\\\n",
    "is\\\\\n",
    "fun\\\\\n",
    "Python\\\\\n",
    "is\\\\\n",
    "fun\\\\\n",
    "Python\n",
    "$$"
   ]
  },
  {
   "cell_type": "code",
   "execution_count": 3,
   "id": "c75f246c",
   "metadata": {
    "id": "c75f246c"
   },
   "outputs": [
    {
     "name": "stdout",
     "output_type": "stream",
     "text": [
      "Python\n",
      "is\n",
      "fun\n",
      "Python\n",
      "is\n",
      "fun\n",
      "Python\n",
      "is\n",
      "fun\n",
      "Python\n"
     ]
    }
   ],
   "source": [
    "count = 1\n",
    "for item in itertools.cycle(['Python', 'is', 'fun']):\n",
    "    print(item)\n",
    "    if count==10:\n",
    "        break\n",
    "    else:\n",
    "        count+=1"
   ]
  },
  {
   "cell_type": "markdown",
   "id": "cbef0f63",
   "metadata": {
    "id": "cbef0f63"
   },
   "source": [
    "**CP3**:\n",
    "Use the `glob` module to list all python (.py) files in your current working directory.\n",
    "\n",
    "\n"
   ]
  },
  {
   "cell_type": "code",
   "execution_count": 19,
   "id": "3e62d5b4",
   "metadata": {
    "id": "3e62d5b4"
   },
   "outputs": [],
   "source": [
    "import glob\n",
    "import glob\n",
    "for python in glob.glob('*.py'):\n",
    "    print(python)\n"
   ]
  },
  {
   "cell_type": "markdown",
   "id": "d266d698",
   "metadata": {
    "id": "d266d698"
   },
   "source": [
    "**CP4**: You are given the following HTML content below. Write a function that uses BeautifulSoup to parse the HTML and extract the text inside the   '$<p>$'   tag.\n"
   ]
  },
  {
   "cell_type": "code",
   "execution_count": null,
   "id": "27f941c8",
   "metadata": {
    "id": "27f941c8"
   },
   "outputs": [],
   "source": [
    "#<html><body><div class='main'><h1>Welcome to AI</h1><p>AI is transforming the world</p></div></body></html>"
   ]
  },
  {
   "cell_type": "code",
   "execution_count": 32,
   "id": "6fb1cdcf",
   "metadata": {
    "id": "6fb1cdcf"
   },
   "outputs": [
    {
     "data": {
      "text/plain": [
       "'AI is transforming the world'"
      ]
     },
     "execution_count": 32,
     "metadata": {},
     "output_type": "execute_result"
    }
   ],
   "source": [
    "from bs4 import BeautifulSoup\n",
    "def get_text(html):\n",
    "    soup = BeautifulSoup(html, 'html.parser')\n",
    "    p = soup.find('p')\n",
    "    if p:\n",
    "        return p.get_text()\n",
    "    else:\n",
    "        return None\n",
    "html = \"<html><body><div class='main'><h1>Welcome to AI</h1><p>AI is transforming the world</p></div></body></html>\"\n",
    "get_text(html)\n"
   ]
  },
  {
   "cell_type": "markdown",
   "id": "a1fce3ef",
   "metadata": {
    "id": "a1fce3ef"
   },
   "source": [
    "**CP5**: Write a function that uses the re module to replace all occurrences of the word \"AI\" with \"Artificial Intelligence\" in a given text."
   ]
  },
  {
   "cell_type": "code",
   "execution_count": 7,
   "id": "07178a2d",
   "metadata": {
    "id": "07178a2d"
   },
   "outputs": [
    {
     "data": {
      "text/plain": [
       "'Artificial Intelligence is transforming the world'"
      ]
     },
     "execution_count": 7,
     "metadata": {},
     "output_type": "execute_result"
    }
   ],
   "source": [
    "import re\n",
    "def replace_AI(text):\n",
    "    return re.sub(\"AI\",\"Artificial Intelligence\",text)\n",
    "    \n",
    "text = \"AI is transforming the world\"\n",
    "replace_AI(text)\n",
    "    "
   ]
  },
  {
   "cell_type": "markdown",
   "id": "4e471de6",
   "metadata": {
    "id": "4e471de6"
   },
   "source": [
    "**CP6**: Create a numpy array of 10 zeros."
   ]
  },
  {
   "cell_type": "code",
   "execution_count": 20,
   "id": "7f6e9acb",
   "metadata": {
    "id": "7f6e9acb"
   },
   "outputs": [
    {
     "data": {
      "text/plain": [
       "array([0., 0., 0., 0., 0., 0., 0., 0., 0., 0.])"
      ]
     },
     "execution_count": 20,
     "metadata": {},
     "output_type": "execute_result"
    }
   ],
   "source": [
    "import numpy as np\n",
    "arr = np.zeros(10)\n",
    "arr"
   ]
  },
  {
   "cell_type": "markdown",
   "id": "5f52a63e",
   "metadata": {
    "id": "5f52a63e"
   },
   "source": [
    "**CP7** Create a numpy array of the integers from 10 to 49."
   ]
  },
  {
   "cell_type": "code",
   "execution_count": 21,
   "id": "ddb01e9a",
   "metadata": {
    "id": "ddb01e9a"
   },
   "outputs": [
    {
     "data": {
      "text/plain": [
       "array([10, 11, 12, 13, 14, 15, 16, 17, 18, 19, 20, 21, 22, 23, 24, 25, 26,\n",
       "       27, 28, 29, 30, 31, 32, 33, 34, 35, 36, 37, 38, 39, 40, 41, 42, 43,\n",
       "       44, 45, 46, 47, 48, 49])"
      ]
     },
     "execution_count": 21,
     "metadata": {},
     "output_type": "execute_result"
    }
   ],
   "source": [
    "ten_49 = np.arange(10,50)\n",
    "ten_49"
   ]
  },
  {
   "cell_type": "markdown",
   "id": "79e4d614",
   "metadata": {
    "id": "79e4d614"
   },
   "source": [
    "**CP8**: Create a 3x3 numpy matrix, filled with values ranging from 0 to 8."
   ]
  },
  {
   "cell_type": "code",
   "execution_count": 22,
   "id": "d3eddea4",
   "metadata": {
    "id": "d3eddea4"
   },
   "outputs": [
    {
     "data": {
      "text/plain": [
       "array([[0, 1, 2],\n",
       "       [3, 4, 5],\n",
       "       [6, 7, 8]])"
      ]
     },
     "execution_count": 22,
     "metadata": {},
     "output_type": "execute_result"
    }
   ],
   "source": [
    "mat = np.arange(9).reshape(3,3)\n",
    "mat"
   ]
  },
  {
   "cell_type": "markdown",
   "id": "1b09270f",
   "metadata": {
    "id": "1b09270f"
   },
   "source": [
    "**CP9**: Explain why machine learning models require large amounts of data? What does it mean for an amount of data to be **large**?"
   ]
  },
  {
   "cell_type": "markdown",
   "id": "a94cb9cc",
   "metadata": {
    "id": "a57e9726"
   },
   "source": [
    "## why machine learning models require large amounts of data?\n",
    "#### Machine learning models have millions of parameters. These parameters are instrumental in enabling the model to achieve precision. The model acquires these parameters during the training process, which involves training it with a large amount of data.\n",
    "## What does it mean for an amount of data to be large?\n",
    "#### A large amount of data refers to a diverse dataset that contains a sufficient quantity of data to generate all the required parameters for the model."
   ]
  },
  {
   "cell_type": "markdown",
   "id": "1a357bde",
   "metadata": {
    "id": "1a357bde"
   },
   "source": [
    "**CP10**: Explain 2 ways AI can be used in an adverserial way, and what can be done to prevent it."
   ]
  },
  {
   "cell_type": "markdown",
   "id": "e458b4d1",
   "metadata": {
    "id": "a9db70af"
   },
   "source": [
    "#### 1. Discrimination: AI systems can exhibit discrimination or bias if the training data provided is itself biased. To prevent this, it is essential to train the AI system using a diverse and representative dataset that includes data from all relevant parties or groups.\n",
    "#### 2. AI can be used for hacking: Hackers may use AI techniques to penetrate in to a system and launch sophisticated attacks. To prevent this, robust security measures, AI-enabled defense systems, continuous monitoring, and ethical AI use should be implemented. Collaboration and information sharing among cybersecurity professionals are essential for staying ahead of emerging AI-based hacking threats"
   ]
  }
 ],
 "metadata": {
  "colab": {
   "provenance": []
  },
  "kernelspec": {
   "display_name": "Python 3 (ipykernel)",
   "language": "python",
   "name": "python3"
  },
  "language_info": {
   "codemirror_mode": {
    "name": "ipython",
    "version": 3
   },
   "file_extension": ".py",
   "mimetype": "text/x-python",
   "name": "python",
   "nbconvert_exporter": "python",
   "pygments_lexer": "ipython3",
   "version": "3.9.13"
  },
  "varInspector": {
   "cols": {
    "lenName": 16,
    "lenType": 16,
    "lenVar": 40
   },
   "kernels_config": {
    "python": {
     "delete_cmd_postfix": "",
     "delete_cmd_prefix": "del ",
     "library": "var_list.py",
     "varRefreshCmd": "print(var_dic_list())"
    },
    "r": {
     "delete_cmd_postfix": ") ",
     "delete_cmd_prefix": "rm(",
     "library": "var_list.r",
     "varRefreshCmd": "cat(var_dic_list()) "
    }
   },
   "types_to_exclude": [
    "module",
    "function",
    "builtin_function_or_method",
    "instance",
    "_Feature"
   ],
   "window_display": false
  }
 },
 "nbformat": 4,
 "nbformat_minor": 5
}
